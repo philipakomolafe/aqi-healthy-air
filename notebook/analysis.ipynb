{
 "cells": [
  {
   "cell_type": "markdown",
   "id": "d3182f9f",
   "metadata": {},
   "source": [
    "### **Cross Validation Analysis**"
   ]
  },
  {
   "cell_type": "code",
   "execution_count": null,
   "id": "25df7b00",
   "metadata": {},
   "outputs": [
    {
     "ename": "",
     "evalue": "",
     "output_type": "error",
     "traceback": [
      "\u001b[1;31mFailed to start the Kernel. \n",
      "\u001b[1;31mUnable to start Kernel 'Python 3.10.11' due to a timeout waiting for the ports to get used. \n",
      "\u001b[1;31mView Jupyter <a href='command:jupyter.viewOutput'>log</a> for further details."
     ]
    }
   ],
   "source": [
    "import os\n",
    "from pathlib import Path\n",
    "from src.utils import read_processed_data, config_loader, get_logger\n",
    "\n",
    "project_root = Path(__file__).parent.parent\n",
    "log = get_logger()\n",
    "config = config_loader()\n",
    "path_svc = os.path.join(project_root, config['cv_result'], 'svc_results.csv')\n",
    "path_knn = os.path.join(project_root, config['cv_result'], 'knn_results.csv')\n",
    "\n",
    "cv_result = read_processed_data(path=path_svc, log=log)"
   ]
  },
  {
   "cell_type": "code",
   "execution_count": null,
   "id": "fe546fb0",
   "metadata": {},
   "outputs": [],
   "source": [
    "# Display basic information about the cv_result DataFrame\n",
    "print(\"Shape of cv_result:\", cv_result.shape)\n",
    "print(\"\\nFirst 5 rows:\")\n",
    "print(cv_result.head())\n",
    "\n",
    "print(\"\\nSummary statistics:\")\n",
    "print(cv_result.describe(include='all'))\n",
    "\n",
    "# Check for missing values\n",
    "print(\"\\nMissing values per column:\")\n",
    "print(cv_result.isnull().sum())"
   ]
  },
  {
   "cell_type": "code",
   "execution_count": null,
   "id": "5b1fdd4d",
   "metadata": {},
   "outputs": [],
   "source": [
    "import matplotlib.pyplot as plt\n",
    "\n",
    "plt.figure(figsize=(8, 5))\n",
    "plt.plot(cv_result['param_C'])\n"
   ]
  }
 ],
 "metadata": {
  "kernelspec": {
   "display_name": "Python 3",
   "language": "python",
   "name": "python3"
  },
  "language_info": {
   "name": "python",
   "version": "3.10.11"
  }
 },
 "nbformat": 4,
 "nbformat_minor": 5
}
